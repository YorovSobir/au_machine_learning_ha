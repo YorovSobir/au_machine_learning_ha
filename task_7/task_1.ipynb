{
 "cells": [
  {
   "cell_type": "code",
   "execution_count": 1,
   "metadata": {
    "collapsed": false
   },
   "outputs": [],
   "source": [
    "import numpy as np\n",
    "from sklearn.utils import check_X_y, check_array\n",
    "from sklearn.utils.multiclass import _check_partial_fit_first_call\n",
    "from sklearn.utils.fixes import in1d\n",
    "from sklearn.metrics import roc_curve\n",
    "from matplotlib import pyplot as plt\n",
    "\n",
    "def update_mean(n_past, mu, var, X):\n",
    "    if X.shape[0] == 0:\n",
    "        return mu, var\n",
    "\n",
    "    n_new = X.shape[0]\n",
    "    new_var = np.var(X, axis=0)\n",
    "    new_mu = np.mean(X, axis=0)\n",
    "\n",
    "    if n_past == 0:\n",
    "        return new_mu, new_var\n",
    "\n",
    "    n_total = float(n_past + n_new)\n",
    "\n",
    "    total_mu = (n_new * new_mu + n_past * mu) / n_total\n",
    "\n",
    "    old_ssd = n_past * var\n",
    "    new_ssd = n_new * new_var\n",
    "    total_ssd = (old_ssd + new_ssd +\n",
    "                 (n_past / float(n_new * n_total)) *\n",
    "                 (n_new * mu - n_new * new_mu) ** 2)\n",
    "    total_var = total_ssd / n_total\n",
    "\n",
    "    return total_mu, total_var\n",
    "\n",
    "class GaussianNB:\n",
    "        \n",
    "    def roc_curve_(self, X, y_true):\n",
    "        joint_log_likelihood = []\n",
    "        for i in range(np.size(self.classes_)):\n",
    "            jointi = np.log(self.class_prior_[i])\n",
    "            n_ij = - 0.5 * np.sum(np.log(2. * np.pi * self.sigma_[i, :]))\n",
    "            n_ij -= 0.5 * np.sum(((X - self.theta_[i, :]) ** 2) /\n",
    "                                 (self.sigma_[i, :]), 1)\n",
    "            joint_log_likelihood.append(jointi + n_ij)\n",
    "\n",
    "        joint_log_likelihood = np.array(joint_log_likelihood).T\n",
    "\n",
    "        fpr, tpr, _ = roc_curve(y_true=y_true, y_score=(joint_log_likelihood[:, 1] \n",
    "                                                        - joint_log_likelihood[:, 0]))\n",
    "        plt.plot(fpr, tpr)\n",
    "        plt.show()\n",
    "        \n",
    "        \n",
    "    def predict(self, X):\n",
    "        joint_log_likelihood = []\n",
    "        for i in range(np.size(self.classes_)):\n",
    "            jointi = np.log(self.class_prior_[i])\n",
    "            n_ij = - 0.5 * np.sum(np.log(2. * np.pi * self.sigma_[i, :]))\n",
    "            n_ij -= 0.5 * np.sum(((X - self.theta_[i, :]) ** 2) /\n",
    "                                 (self.sigma_[i, :]), 1)\n",
    "            joint_log_likelihood.append(jointi + n_ij)\n",
    "\n",
    "        joint_log_likelihood = np.array(joint_log_likelihood).T\n",
    "        return self.classes_[np.argmax(joint_log_likelihood, axis=1)]\n",
    "\n",
    "    def fit(self, X, y):\n",
    "        self.classes_ = np.unique(y)\n",
    "        X, y = check_X_y(X, y)\n",
    "\n",
    "        epsilon = 1e-9 * np.var(X, axis=0).max()\n",
    "        \n",
    "        n_features = X.shape[1]\n",
    "        n_classes = len(self.classes_)\n",
    "        self.theta_ = np.zeros((n_classes, n_features))\n",
    "        self.sigma_ = np.zeros((n_classes, n_features))\n",
    "\n",
    "        self.class_count_ = np.zeros(n_classes, dtype=np.float64)\n",
    "        n_classes = len(self.classes_)\n",
    "        self.class_prior_ = np.zeros(len(self.classes_), dtype=np.float64)\n",
    "        classes = self.classes_\n",
    "\n",
    "        unique_y = np.unique(y)\n",
    "        unique_y_in_classes = in1d(unique_y, classes)\n",
    "\n",
    "        for y_i in unique_y:\n",
    "            i = classes.searchsorted(y_i)\n",
    "            X_i = X[y == y_i, :]\n",
    "\n",
    "            N_i = X_i.shape[0]\n",
    "\n",
    "            new_theta, new_sigma = update_mean(\n",
    "                self.class_count_[i], self.theta_[i, :], self.sigma_[i, :],\n",
    "                X_i)\n",
    "\n",
    "            self.theta_[i, :] = new_theta\n",
    "            self.sigma_[i, :] = new_sigma\n",
    "            self.class_count_[i] += N_i\n",
    "\n",
    "        self.sigma_[:, :] += epsilon\n",
    "        self.class_prior_ = self.class_count_ / self.class_count_.sum()\n",
    "\n",
    "        return self"
   ]
  },
  {
   "cell_type": "code",
   "execution_count": 2,
   "metadata": {
    "collapsed": false
   },
   "outputs": [],
   "source": [
    "import pandas as pd\n",
    "from sklearn.model_selection import train_test_split\n",
    "dataset = pd.read_csv('spambase.csv')"
   ]
  },
  {
   "cell_type": "code",
   "execution_count": 3,
   "metadata": {
    "collapsed": false
   },
   "outputs": [],
   "source": [
    "X = dataset.values[:, :-1]\n",
    "y = dataset.label"
   ]
  },
  {
   "cell_type": "code",
   "execution_count": 4,
   "metadata": {
    "collapsed": false
   },
   "outputs": [
    {
     "data": {
      "text/plain": [
       "<__main__.GaussianNB at 0x7fe6ac613cf8>"
      ]
     },
     "execution_count": 4,
     "metadata": {},
     "output_type": "execute_result"
    }
   ],
   "source": [
    "clf = GaussianNB()\n",
    "clf.fit(X, y)"
   ]
  },
  {
   "cell_type": "markdown",
   "metadata": {},
   "source": [
    "# GaussianNB"
   ]
  },
  {
   "cell_type": "code",
   "execution_count": 5,
   "metadata": {
    "collapsed": false
   },
   "outputs": [
    {
     "data": {
      "text/plain": [
       "0.82286459465333628"
      ]
     },
     "execution_count": 5,
     "metadata": {},
     "output_type": "execute_result"
    }
   ],
   "source": [
    "from sklearn.metrics import accuracy_score\n",
    "accuracy_score(y_true=y, y_pred=clf.predict(X))"
   ]
  },
  {
   "cell_type": "code",
   "execution_count": 6,
   "metadata": {
    "collapsed": false
   },
   "outputs": [
    {
     "data": {
      "image/png": "[encoded data removed]",
      "text/plain": [
       "<matplotlib.figure.Figure at 0x7fe6ac599208>"
      ]
     },
     "metadata": {},
     "output_type": "display_data"
    }
   ],
   "source": [
    "roc = clf.roc_curve_(X, y)"
   ]
  },
  {
   "cell_type": "code",
   "execution_count": null,
   "metadata": {
    "collapsed": false
   },
   "outputs": [],
   "source": []
  },
  {
   "cell_type": "code",
   "execution_count": 7,
   "metadata": {
    "collapsed": false
   },
   "outputs": [],
   "source": [
    "import numpy as np\n",
    "from sklearn.preprocessing import LabelBinarizer\n",
    "from sklearn.preprocessing import label_binarize\n",
    "from sklearn.utils import check_X_y\n",
    "from sklearn.utils.extmath import safe_sparse_dot\n",
    "\n",
    "class MultinomialNB:\n",
    "\n",
    "    \n",
    "    def roc_curve_(self, X, y_true):\n",
    "        jll = (safe_sparse_dot(X, self.feature_log_prob_.T) +\n",
    "                self.class_log_prior_)\n",
    "        fpr, tpr, _ = roc_curve(y_true=y_true, y_score=(jll[:, 1] - jll[:, 0]))\n",
    "        plt.plot(fpr, tpr)\n",
    "        plt.show()\n",
    "        \n",
    "    def fit(self, X, y):\n",
    "        X, y = check_X_y(X, y, 'csr')\n",
    "        n_features = X.shape[1]\n",
    "\n",
    "        labelbin = LabelBinarizer()\n",
    "        Y = labelbin.fit_transform(y)\n",
    "        self.classes_ = labelbin.classes_\n",
    "        if Y.shape[1] == 1:\n",
    "            Y = np.concatenate((1 - Y, Y), axis=1)\n",
    "\n",
    "        n_effective_classes = Y.shape[1]\n",
    "        self.class_count_ = np.zeros(n_effective_classes, dtype=np.float64)\n",
    "        self.feature_count_ = np.zeros((n_effective_classes, n_features),\n",
    "                                       dtype=np.float64)\n",
    "        \n",
    "        self.feature_count_ += safe_sparse_dot(Y.T, X)\n",
    "        self.class_count_ += Y.sum(axis=0)\n",
    "        smoothed_fc = self.feature_count_ + 1.0\n",
    "        smoothed_cc = smoothed_fc.sum(axis=1)\n",
    "        self.feature_log_prob_ = (np.log(smoothed_fc) -\n",
    "                                  np.log(smoothed_cc.reshape(-1, 1)))\n",
    "        \n",
    "        n_classes = len(self.classes_)\n",
    "        self.class_log_prior_ = (np.log(self.class_count_) -\n",
    "                                     np.log(self.class_count_.sum()))\n",
    "        return self\n",
    "    \n",
    "    def predict(self, X):\n",
    "        jll = (safe_sparse_dot(X, self.feature_log_prob_.T) +\n",
    "                self.class_log_prior_)\n",
    "        return self.classes_[np.argmax(jll, axis=1)]\n",
    "\n"
   ]
  },
  {
   "cell_type": "code",
   "execution_count": 8,
   "metadata": {
    "collapsed": false
   },
   "outputs": [],
   "source": [
    "import pandas as pd\n",
    "from sklearn.model_selection import train_test_split\n",
    "dataset = pd.read_csv('smsspam.csv')\n"
   ]
  },
  {
   "cell_type": "code",
   "execution_count": 9,
   "metadata": {
    "collapsed": true
   },
   "outputs": [],
   "source": [
    "from sklearn.feature_extraction.text import CountVectorizer\n",
    "def preprocessing(X, y):\n",
    "    count_vect = CountVectorizer()\n",
    "    temp = [line for line in X[:, 0]]\n",
    "    x_res = count_vect.fit_transform(temp)\n",
    "    sample = y.shape[0]\n",
    "    y_res = np.empty(dtype=int, shape=(sample, ))\n",
    "    for i in range(sample):\n",
    "        if (y[i] == 'ham'):\n",
    "            y_res[i] = 0\n",
    "        else:\n",
    "            y_res[i] = 1\n",
    "    return x_res, y_res"
   ]
  },
  {
   "cell_type": "code",
   "execution_count": 10,
   "metadata": {
    "collapsed": false
   },
   "outputs": [],
   "source": [
    "X = dataset.values[:, 1:]\n",
    "y = dataset.label\n",
    "X, y = preprocessing(X, y)"
   ]
  },
  {
   "cell_type": "code",
   "execution_count": 11,
   "metadata": {
    "collapsed": false
   },
   "outputs": [
    {
     "data": {
      "text/plain": [
       "<__main__.MultinomialNB at 0x7fe678ac27f0>"
      ]
     },
     "execution_count": 11,
     "metadata": {},
     "output_type": "execute_result"
    }
   ],
   "source": [
    "clf = MultinomialNB()\n",
    "clf.fit(X, y)"
   ]
  },
  {
   "cell_type": "markdown",
   "metadata": {},
   "source": [
    "# MultinomialNB"
   ]
  },
  {
   "cell_type": "code",
   "execution_count": 12,
   "metadata": {
    "collapsed": false
   },
   "outputs": [
    {
     "data": {
      "text/plain": [
       "0.99353912419239054"
      ]
     },
     "execution_count": 12,
     "metadata": {},
     "output_type": "execute_result"
    }
   ],
   "source": [
    "from sklearn.metrics import accuracy_score\n",
    "accuracy_score(y_true=y, y_pred=clf.predict(X))"
   ]
  },
  {
   "cell_type": "code",
   "execution_count": 13,
   "metadata": {
    "collapsed": false
   },
   "outputs": [
    {
     "data": {
      "image/png": "[encoded data removed]",
      "text/plain": [
       "<matplotlib.figure.Figure at 0x7fe678ac2860>"
      ]
     },
     "metadata": {},
     "output_type": "display_data"
    }
   ],
   "source": [
    "clf.roc_curve_(X, y)"
   ]
  },
  {
   "cell_type": "code",
   "execution_count": null,
   "metadata": {
    "collapsed": true
   },
   "outputs": [],
   "source": []
  },
  {
   "cell_type": "code",
   "execution_count": null,
   "metadata": {
    "collapsed": true
   },
   "outputs": [],
   "source": []
  },
  {
   "cell_type": "code",
   "execution_count": 14,
   "metadata": {
    "collapsed": false
   },
   "outputs": [],
   "source": [
    "class BernoulliNB:\n",
    "    \n",
    "    def roc_curve_(self, X, y_true):        \n",
    "        n_classes, n_features = self.feature_log_prob_.shape\n",
    "        n_samples, n_features_X = X.shape\n",
    "\n",
    "        neg_prob = np.log(1 - np.exp(self.feature_log_prob_))\n",
    "        jll = safe_sparse_dot(X, (self.feature_log_prob_ - neg_prob).T)\n",
    "        jll += self.class_log_prior_ + neg_prob.sum(axis=1)\n",
    "        \n",
    "        fpr, tpr, _ = roc_curve(y_true=y_true, y_score=(jll[:, 1] - jll[:, 0]))\n",
    "        plt.plot(fpr, tpr)\n",
    "        plt.show()\n",
    "        \n",
    "        \n",
    "    def fit(self, X, y):\n",
    "        X, y = check_X_y(X, y, 'csr')\n",
    "        n_features = X.shape[1]\n",
    "\n",
    "        labelbin = LabelBinarizer()\n",
    "        Y = labelbin.fit_transform(y)\n",
    "        self.classes_ = labelbin.classes_\n",
    "        if Y.shape[1] == 1:\n",
    "            Y = np.concatenate((1 - Y, Y), axis=1)\n",
    "\n",
    "        n_effective_classes = Y.shape[1]\n",
    "        self.class_count_ = np.zeros(n_effective_classes, dtype=np.float64)\n",
    "        self.feature_count_ = np.zeros((n_effective_classes, n_features),\n",
    "                                       dtype=np.float64)\n",
    "        \n",
    "        self.feature_count_ += safe_sparse_dot(Y.T, X)\n",
    "        self.class_count_ += Y.sum(axis=0)\n",
    "        \n",
    "        smoothed_fc = self.feature_count_ + 1.0\n",
    "        smoothed_cc = self.class_count_ + 2.0\n",
    "\n",
    "        self.feature_log_prob_ = (np.log(smoothed_fc) -\n",
    "                                  np.log(smoothed_cc.reshape(-1, 1)))\n",
    "        \n",
    "        n_classes = len(self.classes_)\n",
    "        self.class_log_prior_ = (np.log(self.class_count_) -\n",
    "                                 np.log(self.class_count_.sum()))\n",
    "        return self\n",
    "    \n",
    "    def predict(self, X):        \n",
    "        n_classes, n_features = self.feature_log_prob_.shape\n",
    "        n_samples, n_features_X = X.shape\n",
    "\n",
    "        neg_prob = np.log(1 - np.exp(self.feature_log_prob_))\n",
    "        jll = safe_sparse_dot(X, (self.feature_log_prob_ - neg_prob).T)\n",
    "        jll += self.class_log_prior_ + neg_prob.sum(axis=1)\n",
    "\n",
    "        return self.classes_[np.argmax(jll, axis=1)]"
   ]
  },
  {
   "cell_type": "code",
   "execution_count": 15,
   "metadata": {
    "collapsed": false
   },
   "outputs": [],
   "source": [
    "def binarize(value):\n",
    "    X = np.empty(dtype=int, shape=value.shape)\n",
    "    for i in range(value.shape[0]):\n",
    "        for j in range(value.shape[1]):\n",
    "            if (value[i, j] > 0):\n",
    "                X[i, j] = 1\n",
    "            else:\n",
    "                X[i, j] = 0\n",
    "    return X"
   ]
  },
  {
   "cell_type": "code",
   "execution_count": 16,
   "metadata": {
    "collapsed": false
   },
   "outputs": [],
   "source": [
    "import pandas as pd\n",
    "import numpy as np\n",
    "dataset = pd.read_csv('spambase.csv')\n",
    "y = dataset.label\n",
    "value = dataset.values[:, :-1]\n",
    "X = binarize(value)"
   ]
  },
  {
   "cell_type": "code",
   "execution_count": 17,
   "metadata": {
    "collapsed": false
   },
   "outputs": [
    {
     "data": {
      "text/plain": [
       "<__main__.BernoulliNB at 0x7fe6768f9668>"
      ]
     },
     "execution_count": 17,
     "metadata": {},
     "output_type": "execute_result"
    }
   ],
   "source": [
    "clf = BernoulliNB()\n",
    "clf.fit(X, y)"
   ]
  },
  {
   "cell_type": "markdown",
   "metadata": {},
   "source": [
    "# BernoulliNB"
   ]
  },
  {
   "cell_type": "code",
   "execution_count": 18,
   "metadata": {
    "collapsed": false
   },
   "outputs": [
    {
     "data": {
      "text/plain": [
       "0.88589437078895894"
      ]
     },
     "execution_count": 18,
     "metadata": {},
     "output_type": "execute_result"
    }
   ],
   "source": [
    "from sklearn.metrics import accuracy_score\n",
    "accuracy_score(y_true=y, y_pred=clf.predict(X))"
   ]
  },
  {
   "cell_type": "code",
   "execution_count": 19,
   "metadata": {
    "collapsed": false
   },
   "outputs": [
    {
     "data": {
      "image/png": "[encoded data removed]",
      "text/plain": [
       "<matplotlib.figure.Figure at 0x7fe6768f3a20>"
      ]
     },
     "metadata": {},
     "output_type": "display_data"
    }
   ],
   "source": [
    "clf.roc_curve_(X, y)"
   ]
  },
  {
   "cell_type": "code",
   "execution_count": null,
   "metadata": {
    "collapsed": true
   },
   "outputs": [],
   "source": []
  },
  {
   "cell_type": "code",
   "execution_count": null,
   "metadata": {
    "collapsed": true
   },
   "outputs": [],
   "source": []
  }
 ],
 "metadata": {
  "kernelspec": {
   "display_name": "Python 3",
   "language": "python",
   "name": "python3"
  },
  "language_info": {
   "codemirror_mode": {
    "name": "ipython",
    "version": 3
   },
   "file_extension": ".py",
   "mimetype": "text/x-python",
   "name": "python",
   "nbconvert_exporter": "python",
   "pygments_lexer": "ipython3",
   "version": "3.5.2"
  }
 },
 "nbformat": 4,
 "nbformat_minor": 1
}
