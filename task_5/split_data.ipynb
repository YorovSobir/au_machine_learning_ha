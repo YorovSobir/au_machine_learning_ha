{
 "cells": [
  {
   "cell_type": "code",
   "execution_count": 14,
   "metadata": {
    "collapsed": false
   },
   "outputs": [],
   "source": [
    "from sklearn.model_selection import train_test_split\n",
    "from scipy import misc\n",
    "from os import listdir\n",
    "import pickle\n",
    "import numpy as np\n",
    "\n",
    "\n",
    "def train_val_test_split(X, y):\n",
    "    X_train, X_val, y_train, y_val = train_test_split(X, y, train_size=0.8, stratify=y)\n",
    "    X_val, X_test, y_val, y_test = train_test_split(X_val, y_val, train_size=0.5, stratify=y_val)\n",
    "    return X_train, y_train, X_val, y_val, X_test, y_test\n",
    "\n",
    "\n",
    "def load_raw_images_and_pickle(path, where):\n",
    "    folds = listdir(path)\n",
    "\n",
    "    images = {}\n",
    "    labels = {}\n",
    "    i = 0\n",
    "    for fold in folds:\n",
    "        cur_dir = path + '/' + fold\n",
    "        files = listdir(cur_dir)\n",
    "        for file in files:\n",
    "            images[i] = misc.imread(cur_dir + '/' + file)\n",
    "            labels[i] = ord(fold[0]) - ord('A')\n",
    "            i += 1\n",
    "\n",
    "    imgs = np.array(list(images.values()), dtype='float32')\n",
    "    imgs /= np.max(imgs)\n",
    "\n",
    "    lbls = np.array(list(labels.values()))\n",
    "\n",
    "def load_data(filename):\n",
    "    with open(filename, 'rb') as file:\n",
    "        data = pickle.load(file)\n",
    "        labels = pickle.load(file)\n",
    "\n",
    "    return data, labels\n",
    "\n",
    "def load_dataset():\n",
    "    X, y = load_data('./notMNIST.pickle')\n",
    "    return train_val_test_split(X, y)"
   ]
  },
  {
   "cell_type": "code",
   "execution_count": 15,
   "metadata": {
    "collapsed": false
   },
   "outputs": [],
   "source": [
    "load_raw_images_and_pickle('./notMNIST_small', './notMNIST.pickle')\n",
    "X_train, y_train, X_val, y_val, X_test, y_test = load_dataset()"
   ]
  },
  {
   "cell_type": "code",
   "execution_count": 17,
   "metadata": {
    "collapsed": false
   },
   "outputs": [],
   "source": [
    "# X_train, y_train, X_val, y_val, X_test, y_test"
   ]
  },
  {
   "cell_type": "code",
   "execution_count": null,
   "metadata": {
    "collapsed": true
   },
   "outputs": [],
   "source": []
  }
 ],
 "metadata": {
  "kernelspec": {
   "display_name": "Python 3",
   "language": "python",
   "name": "python3"
  },
  "language_info": {
   "codemirror_mode": {
    "name": "ipython",
    "version": 3
   },
   "file_extension": ".py",
   "mimetype": "text/x-python",
   "name": "python",
   "nbconvert_exporter": "python",
   "pygments_lexer": "ipython3",
   "version": "3.5.2"
  }
 },
 "nbformat": 4,
 "nbformat_minor": 1
}
